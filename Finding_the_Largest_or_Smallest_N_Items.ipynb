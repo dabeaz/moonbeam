{
 "metadata": {
  "name": "",
  "signature": "sha256:90eb278d9d91d8e76913d0e86baaa4c35f3d15025ab39cfb70485b11e6388544"
 },
 "nbformat": 3,
 "nbformat_minor": 0,
 "worksheets": [
  {
   "cells": [
    {
     "cell_type": "markdown",
     "metadata": {},
     "source": [
      "## 1.4 Finding the Largest or Smallest N Items\n",
      "\n",
      "### Problem\n",
      "\n",
      "You want to make a list of the largest or smallest N items in a\n",
      "collection.\n",
      "\n",
      "### Solution\n",
      "\n",
      "The `heapq` module has two functions&#8212;<literal>nlargest()</literal> and <literal>nsmallest()</literal>&#x2014;that do exactly what you want.  For example:\n"
     ]
    },
    {
     "cell_type": "code",
     "collapsed": false,
     "input": [
      "import heapq\n",
      "\n",
      "nums = [1, 8, 2, 23, 7, -4, 18, 23, 42, 37, 2]\n",
      "print(heapq.nlargest(3, nums))  # Prints [42, 37, 23]\n",
      "print(heapq.nsmallest(3, nums)) # Prints [-4, 1, 2]\n"
     ],
     "language": "python",
     "metadata": {},
     "outputs": [
      {
       "output_type": "stream",
       "stream": "stdout",
       "text": [
        "[42, 37, 23]\n",
        "[-4, 1, 2]\n"
       ]
      }
     ],
     "prompt_number": 1
    },
    {
     "cell_type": "markdown",
     "metadata": {},
     "source": [
      "Both functions also accept a key parameter that allows them to be used\n",
      "with more complicated data structures.  For example:\n"
     ]
    },
    {
     "cell_type": "code",
     "collapsed": false,
     "input": [
      "portfolio = [\n",
      "   {'name': 'IBM', 'shares': 100, 'price': 91.1},\n",
      "   {'name': 'AAPL', 'shares': 50, 'price': 543.22},\n",
      "   {'name': 'FB', 'shares': 200, 'price': 21.09},\n",
      "   {'name': 'HPQ', 'shares': 35, 'price': 31.75},\n",
      "   {'name': 'YHOO', 'shares': 45, 'price': 16.35},\n",
      "   {'name': 'ACME', 'shares': 75, 'price': 115.65}\n",
      "]\n",
      "\n",
      "cheap = heapq.nsmallest(3, portfolio, key=lambda s: s['price'])\n",
      "expensive = heapq.nlargest(3, portfolio, key=lambda s: s['price'])\n",
      "cheap"
     ],
     "language": "python",
     "metadata": {},
     "outputs": [
      {
       "metadata": {},
       "output_type": "pyout",
       "prompt_number": 2,
       "text": [
        "[{'shares': 45, 'price': 16.35, 'name': 'YHOO'},\n",
        " {'shares': 200, 'price': 21.09, 'name': 'FB'},\n",
        " {'shares': 35, 'price': 31.75, 'name': 'HPQ'}]"
       ]
      }
     ],
     "prompt_number": 2
    },
    {
     "cell_type": "code",
     "collapsed": false,
     "input": [
      "expensive"
     ],
     "language": "python",
     "metadata": {},
     "outputs": [
      {
       "metadata": {},
       "output_type": "pyout",
       "prompt_number": 3,
       "text": [
        "[{'shares': 50, 'price': 543.22, 'name': 'AAPL'},\n",
        " {'shares': 75, 'price': 115.65, 'name': 'ACME'},\n",
        " {'shares': 100, 'price': 91.1, 'name': 'IBM'}]"
       ]
      }
     ],
     "prompt_number": 3
    },
    {
     "cell_type": "markdown",
     "metadata": {},
     "source": [
      "### Discussion\n",
      "\n",
      "If you are looking for the N smallest or largest items and N is\n",
      "small compared to the overall size of the collection, these functions\n",
      "provide superior performance.   Underneath the covers, they work by\n",
      "first converting the data into a list where items are ordered as a heap.\n",
      "For example:\n"
     ]
    },
    {
     "cell_type": "code",
     "collapsed": false,
     "input": [
      "nums = [1, 8, 2, 23, 7, -4, 18, 23, 42, 37, 2]\n",
      "import heapq\n",
      "heap = list(nums)\n",
      "heapq.heapify(heap)\n",
      "heap    \n"
     ],
     "language": "python",
     "metadata": {},
     "outputs": [
      {
       "metadata": {},
       "output_type": "pyout",
       "prompt_number": 4,
       "text": [
        "[-4, 2, 1, 23, 7, 2, 18, 23, 42, 37, 8]"
       ]
      }
     ],
     "prompt_number": 4
    },
    {
     "cell_type": "markdown",
     "metadata": {},
     "source": [
      "The most important feature of a heap is that `heap[0]` is always the\n",
      "smallest item.  Moreover, subsequent items can be easily found using\n",
      "the `heapq.heappop()` method, which pops off the first item and\n",
      "replaces it with the next smallest item (an operation that requires\n",
      "O(log N) operations where N is the size of the heap).  For example, to\n",
      "find the three smallest items, you would do this:\n"
     ]
    },
    {
     "cell_type": "code",
     "collapsed": false,
     "input": [
      "heapq.heappop(heap)    \n"
     ],
     "language": "python",
     "metadata": {},
     "outputs": [
      {
       "metadata": {},
       "output_type": "pyout",
       "prompt_number": 5,
       "text": [
        "-4"
       ]
      }
     ],
     "prompt_number": 5
    },
    {
     "cell_type": "code",
     "collapsed": false,
     "input": [
      "heapq.heappop(heap)    \n"
     ],
     "language": "python",
     "metadata": {},
     "outputs": [
      {
       "metadata": {},
       "output_type": "pyout",
       "prompt_number": 6,
       "text": [
        "1"
       ]
      }
     ],
     "prompt_number": 6
    },
    {
     "cell_type": "code",
     "collapsed": false,
     "input": [
      "heapq.heappop(heap)    \n"
     ],
     "language": "python",
     "metadata": {},
     "outputs": [
      {
       "metadata": {},
       "output_type": "pyout",
       "prompt_number": 7,
       "text": [
        "2"
       ]
      }
     ],
     "prompt_number": 7
    },
    {
     "cell_type": "markdown",
     "metadata": {},
     "source": [
      "The `nlargest()` and `nsmallest()` functions are most\n",
      "appropriate if you are trying to find a relatively small number of\n",
      "items.  If you are simply trying to find the single smallest or\n",
      "largest item (N=1), it is faster to use `min()` and `max()`.\n",
      "Similarly, if N is about the same size as the collection itself, it is\n",
      "usually faster to sort it first and take a slice (i.e., use\n",
      "`sorted(items)[:N]` or `sorted(items)[-N:]`). It should be noted that\n",
      "the actual implementation of `nlargest()` and `nsmallest()` is\n",
      "adaptive in how it operates and will carry out some of these\n",
      "optimizations on your behalf (e.g., using sorting if N is close to the\n",
      "same size as the input).\n",
      "\n",
      "Although it's not necessary to use this recipe, the implementation of\n",
      "a heap is an interesting and worthwhile subject of study.  This can\n",
      "usually be found in any decent book on algorithms and data structures.\n",
      "The documentation for the `heapq` module also discusses the underlying\n",
      "implementation details.\n"
     ]
    }
   ],
   "metadata": {}
  }
 ]
}