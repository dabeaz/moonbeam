{
 "metadata": {
  "name": "",
  "signature": "sha256:60cd5b473e1587a7ba1ac0eaa2f55999370f649b7743bdfa499bed2d031edb1f"
 },
 "nbformat": 3,
 "nbformat_minor": 0,
 "worksheets": [
  {
   "cells": [
    {
     "cell_type": "markdown",
     "metadata": {},
     "source": [
      "## 1.2 Unpacking Elements from Iterables of Arbitrary Length\n",
      "\n",
      "### Problem\n",
      "\n",
      "You need to unpack N elements from an iterable, but the iterable may be\n",
      "longer than N elements, causing a \"too many values to unpack\" exception.\n",
      "\n",
      "### Solution\n",
      "\n",
      "Python \"star expressions\" can be used to address this\n",
      "problem. For example, suppose you run a course and decide at the end\n",
      "of the semester that you're going to drop the first and last homework\n",
      "grades, and only average the rest of them. If there are only four\n",
      "assignments, maybe you simply unpack all four, but what if there are 24?\n",
      "A star expression makes it easy:\n"
     ]
    },
    {
     "cell_type": "code",
     "collapsed": false,
     "input": [
      "def drop_first_last(grades):\n",
      "    first, *middle, last = grades\n",
      "    return sum(middle)/len(middle)\n",
      "\n",
      "grades = [2.0, 3.0, 4.0, 9.0]\n",
      "drop_first_last(grades)"
     ],
     "language": "python",
     "metadata": {},
     "outputs": [
      {
       "metadata": {},
       "output_type": "pyout",
       "prompt_number": 1,
       "text": [
        "3.5"
       ]
      }
     ],
     "prompt_number": 1
    },
    {
     "cell_type": "markdown",
     "metadata": {},
     "source": [
      "As another use case, suppose you have user records that consist of a name and\n",
      "email address, followed by an arbitrary number of phone numbers. You could\n",
      "unpack the records like this:\n"
     ]
    },
    {
     "cell_type": "code",
     "collapsed": false,
     "input": [
      "record = ('Dave', 'dave@example.com', '773-555-1212', '847-555-1212')\n",
      "name, email, *phone_numbers = record\n",
      "name    \n"
     ],
     "language": "python",
     "metadata": {},
     "outputs": [
      {
       "metadata": {},
       "output_type": "pyout",
       "prompt_number": 2,
       "text": [
        "'Dave'"
       ]
      }
     ],
     "prompt_number": 2
    },
    {
     "cell_type": "code",
     "collapsed": false,
     "input": [
      "email    \n"
     ],
     "language": "python",
     "metadata": {},
     "outputs": [
      {
       "metadata": {},
       "output_type": "pyout",
       "prompt_number": 3,
       "text": [
        "'dave@example.com'"
       ]
      }
     ],
     "prompt_number": 3
    },
    {
     "cell_type": "code",
     "collapsed": false,
     "input": [
      "phone_numbers    \n"
     ],
     "language": "python",
     "metadata": {},
     "outputs": [
      {
       "metadata": {},
       "output_type": "pyout",
       "prompt_number": 4,
       "text": [
        "['773-555-1212', '847-555-1212']"
       ]
      }
     ],
     "prompt_number": 4
    },
    {
     "cell_type": "markdown",
     "metadata": {},
     "source": [
      "It's worth noting that the `phone_numbers` variable will always be a\n",
      "list, regardless of how many phone numbers are unpacked (including\n",
      "none).  Thus, any code that uses `phone_numbers` won't have to account\n",
      "for the possibility that it might not be a list or perform any kind of\n",
      "additional type checking.\n",
      "\n",
      "The starred variable can also be the first one in the list. For example, say\n",
      "you have a sequence of values representing your company's sales figures for the last eight\n",
      "quarters. If you want to see how the most recent quarter stacks up to\n",
      "the average of the first seven, you could do something like this:\n"
     ]
    },
    {
     "cell_type": "markdown",
     "metadata": {},
     "source": [
      "```\n",
      "*trailing_qtrs, current_qtr = sales_record\n",
      "trailing_avg = sum(trailing_qtrs) / len(trailing_qtrs)\n",
      "return avg_comparison(trailing_avg, current_qtr)\n",
      "```"
     ]
    },
    {
     "cell_type": "markdown",
     "metadata": {},
     "source": [
      "Here's a view of the operation from the Python interpreter:\n"
     ]
    },
    {
     "cell_type": "code",
     "collapsed": false,
     "input": [
      "*trailing, current = [10, 8, 7, 1, 9, 5, 10, 3]\n",
      "trailing    \n"
     ],
     "language": "python",
     "metadata": {},
     "outputs": [
      {
       "metadata": {},
       "output_type": "pyout",
       "prompt_number": 5,
       "text": [
        "[10, 8, 7, 1, 9, 5, 10]"
       ]
      }
     ],
     "prompt_number": 5
    },
    {
     "cell_type": "code",
     "collapsed": false,
     "input": [
      "current    \n"
     ],
     "language": "python",
     "metadata": {},
     "outputs": [
      {
       "metadata": {},
       "output_type": "pyout",
       "prompt_number": 6,
       "text": [
        "3"
       ]
      }
     ],
     "prompt_number": 6
    },
    {
     "cell_type": "markdown",
     "metadata": {},
     "source": [
      "### Discussion\n",
      "\n",
      "Extended iterable unpacking is tailor-made for unpacking iterables of\n",
      "unknown or arbitrary length. Oftentimes, these iterables have some\n",
      "known component or pattern in their construction (e.g. \"everything after element 1 is a phone number\"), and star\n",
      "unpacking lets the developer leverage those patterns easily instead of\n",
      "performing acrobatics to get at the relevant elements in the iterable.\n",
      "\n",
      "It is worth noting that the star syntax can be especially useful when\n",
      "iterating over a sequence of tuples of varying length.  For example,\n",
      "perhaps a sequence of tagged tuples:\n"
     ]
    },
    {
     "cell_type": "code",
     "collapsed": false,
     "input": [
      "records = [\n",
      "     ('foo', 1, 2),\n",
      "     ('bar', 'hello'),\n",
      "     ('foo', 3, 4),\n",
      "]\n",
      "\n",
      "def do_foo(x, y):\n",
      "    print('foo', x, y)\n",
      "\n",
      "def do_bar(s):\n",
      "    print('bar', s)\n",
      "\n",
      "for tag, *args in records:\n",
      "    if tag == 'foo':\n",
      "        do_foo(*args)\n",
      "    elif tag == 'bar':\n",
      "        do_bar(*args)\n"
     ],
     "language": "python",
     "metadata": {},
     "outputs": [
      {
       "output_type": "stream",
       "stream": "stdout",
       "text": [
        "foo 1 2\n",
        "bar hello\n",
        "foo 3 4\n"
       ]
      }
     ],
     "prompt_number": 7
    },
    {
     "cell_type": "markdown",
     "metadata": {},
     "source": [
      "Star unpacking can also be useful when combined with certain kinds\n",
      "of string processing operations, such as splitting.  For example:\n"
     ]
    },
    {
     "cell_type": "code",
     "collapsed": false,
     "input": [
      "line = 'nobody:*:-2:-2:Unprivileged User:/var/empty:/usr/bin/false'\n",
      "uname, *fields, homedir, sh = line.split(':')\n",
      "uname    \n"
     ],
     "language": "python",
     "metadata": {},
     "outputs": [
      {
       "metadata": {},
       "output_type": "pyout",
       "prompt_number": 8,
       "text": [
        "'nobody'"
       ]
      }
     ],
     "prompt_number": 8
    },
    {
     "cell_type": "code",
     "collapsed": false,
     "input": [
      "homedir    \n"
     ],
     "language": "python",
     "metadata": {},
     "outputs": [
      {
       "metadata": {},
       "output_type": "pyout",
       "prompt_number": 9,
       "text": [
        "'/var/empty'"
       ]
      }
     ],
     "prompt_number": 9
    },
    {
     "cell_type": "code",
     "collapsed": false,
     "input": [
      "sh    \n"
     ],
     "language": "python",
     "metadata": {},
     "outputs": [
      {
       "metadata": {},
       "output_type": "pyout",
       "prompt_number": 10,
       "text": [
        "'/usr/bin/false'"
       ]
      }
     ],
     "prompt_number": 10
    },
    {
     "cell_type": "markdown",
     "metadata": {},
     "source": [
      "Sometimes you might want to unpack values and throw them away.\n",
      "You can't just specify a bare `*` when unpacking, but you could\n",
      "use a common throwaway variable name, such as `_` or `ign` (ignored).\n",
      "For example:\n"
     ]
    },
    {
     "cell_type": "code",
     "collapsed": false,
     "input": [
      "record = ('ACME', 50, 123.45, (12, 18, 2012))\n",
      "name, *_, (*_, year) = record\n",
      "name    \n"
     ],
     "language": "python",
     "metadata": {},
     "outputs": [
      {
       "metadata": {},
       "output_type": "pyout",
       "prompt_number": 11,
       "text": [
        "'ACME'"
       ]
      }
     ],
     "prompt_number": 11
    },
    {
     "cell_type": "code",
     "collapsed": false,
     "input": [
      "year    \n"
     ],
     "language": "python",
     "metadata": {},
     "outputs": [
      {
       "metadata": {},
       "output_type": "pyout",
       "prompt_number": 12,
       "text": [
        "2012"
       ]
      }
     ],
     "prompt_number": 12
    },
    {
     "cell_type": "markdown",
     "metadata": {},
     "source": [
      "There is a certain similarity between star unpacking and list-processing\n",
      "features of various functional languages.  For example, if you have a\n",
      "list, you can easily split it into head and tail components like this:\n"
     ]
    },
    {
     "cell_type": "code",
     "collapsed": false,
     "input": [
      "items = [1, 10, 7, 4, 5, 9]\n",
      "head, *tail = items\n",
      "head    \n"
     ],
     "language": "python",
     "metadata": {},
     "outputs": [
      {
       "metadata": {},
       "output_type": "pyout",
       "prompt_number": 13,
       "text": [
        "1"
       ]
      }
     ],
     "prompt_number": 13
    },
    {
     "cell_type": "code",
     "collapsed": false,
     "input": [
      "tail    \n"
     ],
     "language": "python",
     "metadata": {},
     "outputs": [
      {
       "metadata": {},
       "output_type": "pyout",
       "prompt_number": 14,
       "text": [
        "[10, 7, 4, 5, 9]"
       ]
      }
     ],
     "prompt_number": 14
    },
    {
     "cell_type": "markdown",
     "metadata": {},
     "source": [
      "One could imagine writing functions that perform such splitting in\n",
      "order to carry out some kind of clever recursive algorithm. For example:\n"
     ]
    },
    {
     "cell_type": "code",
     "collapsed": false,
     "input": [
      "def sum(items):\n",
      "    head, *tail = items\n",
      "    return head + sum(tail) if tail else head\n",
      "sum(items)    \n"
     ],
     "language": "python",
     "metadata": {},
     "outputs": [
      {
       "metadata": {},
       "output_type": "pyout",
       "prompt_number": 15,
       "text": [
        "36"
       ]
      }
     ],
     "prompt_number": 15
    },
    {
     "cell_type": "markdown",
     "metadata": {},
     "source": [
      "However, be aware that recursion really isn't a strong Python feature due to\n",
      "the inherent recursion limit.  Thus, this last example might be nothing\n",
      "more than an academic curiosity in practice.\n"
     ]
    },
    {
     "cell_type": "code",
     "collapsed": false,
     "input": [],
     "language": "python",
     "metadata": {},
     "outputs": [],
     "prompt_number": 15
    }
   ],
   "metadata": {}
  }
 ]
}