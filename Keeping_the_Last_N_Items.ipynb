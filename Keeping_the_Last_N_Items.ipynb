{
 "metadata": {
  "name": "",
  "signature": "sha256:8f656610056d7db945b860f7657c217884e4fab6052b74ab37907842e751ff9a"
 },
 "nbformat": 3,
 "nbformat_minor": 0,
 "worksheets": [
  {
   "cells": [
    {
     "cell_type": "markdown",
     "metadata": {},
     "source": [
      "## 1.3 Keeping the Last N Items\n",
      "\n",
      "### Problem\n",
      "\n",
      "You want to keep a limited history of the last few items seen\n",
      "during iteration or during some other kind of processing.\n",
      "\n",
      "### Solution\n",
      "\n",
      "Keeping a limited history is a perfect use for a `collections.deque`.\n",
      "For example, the following code performs a simple text match on a\n",
      "sequence of lines and yields the matching line along with the previous\n",
      "N lines of context when found:\n"
     ]
    },
    {
     "cell_type": "code",
     "collapsed": false,
     "input": [
      "from collections import deque\n",
      "\n",
      "def search(lines, pattern, history=5):\n",
      "    previous_lines = deque(maxlen=history)\n",
      "    for line in lines:\n",
      "        if pattern in line:\n",
      "            yield line, previous_lines\n",
      "        previous_lines.append(line)\n",
      "\n",
      "# Example use on a a list of lines\n",
      "lines = [\n",
      "   'line1',\n",
      "   'line2',\n",
      "   'line3',\n",
      "   'line4',\n",
      "   'line5',\n",
      "   'line6',\n",
      "   'python',\n",
      "]\n",
      "\n",
      "for line, prevlines in search(lines, 'python', 3):\n",
      "    for pline in prevlines:\n",
      "        print(pline)\n",
      "    print(line)\n",
      "    print('-'*20)\n"
     ],
     "language": "python",
     "metadata": {},
     "outputs": [
      {
       "output_type": "stream",
       "stream": "stdout",
       "text": [
        "line4\n",
        "line5\n",
        "line6\n",
        "python\n",
        "--------------------\n"
       ]
      }
     ],
     "prompt_number": 3
    },
    {
     "cell_type": "markdown",
     "metadata": {},
     "source": [
      "### Discussion\n",
      "\n",
      "When writing code to search for items, it is common to use a generator\n",
      "function involving `yield`, as shown in this recipe's solution.  This decouples the process\n",
      "of searching from the code that uses the results.   If you're new\n",
      "to generators, see <a href=\"#generators\">[generators]</a>.\n",
      "\n",
      "Using `deque(maxlen=N)` creates a fixed-sized queue.  When new items\n",
      "are added and the queue is full, the oldest item is automatically\n",
      "removed.   For example:\n"
     ]
    },
    {
     "cell_type": "code",
     "collapsed": false,
     "input": [
      "q = deque(maxlen=3)\n",
      "q.append(1)\n",
      "q.append(2)\n",
      "q.append(3)\n",
      "q    \n"
     ],
     "language": "python",
     "metadata": {},
     "outputs": [
      {
       "metadata": {},
       "output_type": "pyout",
       "prompt_number": 4,
       "text": [
        "deque([1, 2, 3], maxlen=3)"
       ]
      }
     ],
     "prompt_number": 4
    },
    {
     "cell_type": "code",
     "collapsed": false,
     "input": [
      "q.append(4)\n",
      "q    \n"
     ],
     "language": "python",
     "metadata": {},
     "outputs": [
      {
       "metadata": {},
       "output_type": "pyout",
       "prompt_number": 5,
       "text": [
        "deque([2, 3, 4], maxlen=3)"
       ]
      }
     ],
     "prompt_number": 5
    },
    {
     "cell_type": "code",
     "collapsed": false,
     "input": [
      "q.append(5)\n",
      "q    \n"
     ],
     "language": "python",
     "metadata": {},
     "outputs": [
      {
       "metadata": {},
       "output_type": "pyout",
       "prompt_number": 6,
       "text": [
        "deque([3, 4, 5], maxlen=3)"
       ]
      }
     ],
     "prompt_number": 6
    },
    {
     "cell_type": "markdown",
     "metadata": {},
     "source": [
      "Although you could manually perform such operations on a list (e.g.,\n",
      "appending, deleting, etc.), the queue solution is far more elegant and\n",
      "runs a lot faster.\n",
      "\n",
      "More generally, a `deque` can be used whenever you need a simple queue\n",
      "structure.  If you don't give it a maximum size, you get an unbounded\n",
      "queue that lets you append and pop items on either end.  For example:\n"
     ]
    },
    {
     "cell_type": "code",
     "collapsed": false,
     "input": [
      "q = deque()\n",
      "q.append(1)\n",
      "q.append(2)\n",
      "q.append(3)\n",
      "q    \n"
     ],
     "language": "python",
     "metadata": {},
     "outputs": [
      {
       "metadata": {},
       "output_type": "pyout",
       "prompt_number": 7,
       "text": [
        "deque([1, 2, 3])"
       ]
      }
     ],
     "prompt_number": 7
    },
    {
     "cell_type": "code",
     "collapsed": false,
     "input": [
      "q.appendleft(4)\n",
      "q    \n"
     ],
     "language": "python",
     "metadata": {},
     "outputs": [
      {
       "metadata": {},
       "output_type": "pyout",
       "prompt_number": 8,
       "text": [
        "deque([4, 1, 2, 3])"
       ]
      }
     ],
     "prompt_number": 8
    },
    {
     "cell_type": "code",
     "collapsed": false,
     "input": [
      "q.pop()    \n"
     ],
     "language": "python",
     "metadata": {},
     "outputs": [
      {
       "metadata": {},
       "output_type": "pyout",
       "prompt_number": 9,
       "text": [
        "3"
       ]
      }
     ],
     "prompt_number": 9
    },
    {
     "cell_type": "code",
     "collapsed": false,
     "input": [
      "q    \n"
     ],
     "language": "python",
     "metadata": {},
     "outputs": [
      {
       "metadata": {},
       "output_type": "pyout",
       "prompt_number": 10,
       "text": [
        "deque([4, 1, 2])"
       ]
      }
     ],
     "prompt_number": 10
    },
    {
     "cell_type": "code",
     "collapsed": false,
     "input": [
      "q.popleft()    \n"
     ],
     "language": "python",
     "metadata": {},
     "outputs": [
      {
       "metadata": {},
       "output_type": "pyout",
       "prompt_number": 11,
       "text": [
        "4"
       ]
      }
     ],
     "prompt_number": 11
    },
    {
     "cell_type": "markdown",
     "metadata": {},
     "source": [
      "Adding or popping items from either end of a queue has O(1)\n",
      "complexity.   This is unlike a list where inserting or removing\n",
      "items from the front of the list is O(N).\n"
     ]
    }
   ],
   "metadata": {}
  }
 ]
}